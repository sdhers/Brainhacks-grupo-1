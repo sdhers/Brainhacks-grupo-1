{
 "cells": [
  {
   "cell_type": "markdown",
   "id": "9b8e563b",
   "metadata": {
    "slideshow": {
     "slide_type": "slide"
    }
   },
   "source": [
    "# Comparing different methods for mice behavioral analysis\n",
    "\n"
   ]
  },
  {
   "cell_type": "markdown",
   "id": "750a59ed",
   "metadata": {
    "slideshow": {
     "slide_type": "slide"
    }
   },
   "source": [
    "## About Me\n",
    "\n",
    "+ Here some info about me.\n",
    "+ Here more info about me!\n",
    "\n",
    "<img align=\"center\" width=\"200\" height=\"200\" src=\"https://www.nasa.gov/sites/default/files/thumbnails/image/edu_chandra_informal.jpg\">\n",
    "\n"
   ]
  },
  {
   "cell_type": "markdown",
   "id": "9547ee02",
   "metadata": {
    "slideshow": {
     "slide_type": "slide"
    }
   },
   "source": [
    "## Topic of Interest\n",
    "\n",
    "Our project aims to develop different methods for the **analysis of behavior in mice** (in this case, exploration of an object) to determine which is the best approach to this kind of study."
   ]
  },
  {
   "cell_type": "markdown",
   "id": "d01ed81c",
   "metadata": {
    "slideshow": {
     "slide_type": "slide"
    }
   },
   "source": [
    "## Objectives to achieve\n",
    "\n",
    "* Implement and compare three increasingly complex methods to determine exploration time:\n",
    "\n",
    "    - Manual labeling\n",
    "\n",
    "    - Motion tracking and data analysis using a custom algorithm.\n",
    "\n",
    "    - Training a neural network on our labeled data.\n",
    "\n",
    "* Interrogate the pros and cons of involving machine learning into our so far manual chores."
   ]
  },
  {
   "cell_type": "markdown",
   "id": "1abd7e2e",
   "metadata": {
    "slideshow": {
     "slide_type": "slide"
    }
   },
   "source": [
    "## The skills to learn\n",
    "\n",
    "We would like to learn and apply:\n",
    "\n",
    "- \n",
    " "
   ]
  },
  {
   "cell_type": "markdown",
   "id": "05d92769",
   "metadata": {
    "slideshow": {
     "slide_type": "slide"
    }
   },
   "source": [
    "## Resources to use\n",
    "\n",
    "We will use the following resources:\n",
    "\n",
    "- DeepLabCut pose estimation software.\n",
    "\n",
    "<img width=\"150\" src=\"https://images.squarespace-cdn.com/content/v1/57f6d51c9f74566f55ecf271/1605646569254-13M1YJQ8NFB5E5H0MT0E/dlc_logo.png\">\n",
    "\n",
    "- Python for labeling and data analysis.\n",
    "\n",
    "<img width=\"80\" height=\"80\" src=\"https://cdn3.iconfinder.com/data/icons/logos-and-brands-adobe/512/267_Python-512.png\">\n",
    "\n",
    "- Git and GitHub for version control and collaboration.\n",
    "\n",
    "<img width=\"120\" height=\"120\" src=\"https://lthub.ubc.ca/files/2021/06/GitHub-Logo.png\">\n",
    "\n",
    "\n"
   ]
  },
  {
   "cell_type": "markdown",
   "id": "af080efa",
   "metadata": {
    "slideshow": {
     "slide_type": "slide"
    }
   },
   "source": [
    "## Deliverables of the Project\n",
    "\n",
    "The deliverables of this project are:<br />\n",
    "\n",
    "- A Github repository with our code.\n",
    "\n",
    "- A Python script to aid in the manual labeling of mice videos.\n",
    "\n",
    "- Jupyter notebooks for the different methods we will develop.\n",
    "\n",
    "- Documentation on the different methods we will develop and the comparisons between them.\n"
   ]
  },
  {
   "cell_type": "markdown",
   "id": "146ee639",
   "metadata": {
    "slideshow": {
     "slide_type": "slide"
    }
   },
   "source": [
    "## Outcomes of the project\n",
    "\n",
    "A succesful implementation of our ideas would allow for a so far manual task to be carried out automatically."
   ]
  },
  {
   "cell_type": "markdown",
   "id": "97141dde",
   "metadata": {
    "slideshow": {
     "slide_type": "slide"
    }
   },
   "source": [
    "## References\n",
    "\n",
    "[1] \n",
    "[2] \n",
    "[3]\n"
   ]
  },
  {
   "cell_type": "markdown",
   "id": "4cfc16e0",
   "metadata": {
    "slideshow": {
     "slide_type": "slide"
    }
   },
   "source": [
    "## Anything else you want to add?\n",
    "\n",
    "\n"
   ]
  }
 ],
 "metadata": {
  "celltoolbar": "Slideshow",
  "kernelspec": {
   "display_name": "Python 3 (ipykernel)",
   "language": "python",
   "name": "python3"
  },
  "language_info": {
   "codemirror_mode": {
    "name": "ipython",
    "version": 3
   },
   "file_extension": ".py",
   "mimetype": "text/x-python",
   "name": "python",
   "nbconvert_exporter": "python",
   "pygments_lexer": "ipython3",
   "version": "3.10.11"
  },
  "varInspector": {
   "cols": {
    "lenName": 16,
    "lenType": 16,
    "lenVar": 40
   },
   "kernels_config": {
    "python": {
     "delete_cmd_postfix": "",
     "delete_cmd_prefix": "del ",
     "library": "var_list.py",
     "varRefreshCmd": "print(var_dic_list())"
    },
    "r": {
     "delete_cmd_postfix": ") ",
     "delete_cmd_prefix": "rm(",
     "library": "var_list.r",
     "varRefreshCmd": "cat(var_dic_list()) "
    }
   },
   "types_to_exclude": [
    "module",
    "function",
    "builtin_function_or_method",
    "instance",
    "_Feature"
   ],
   "window_display": false
  }
 },
 "nbformat": 4,
 "nbformat_minor": 5
}
