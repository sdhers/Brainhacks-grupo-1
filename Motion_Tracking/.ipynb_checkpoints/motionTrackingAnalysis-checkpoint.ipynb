{
 "cells": [
  {
   "cell_type": "code",
   "execution_count": 18,
   "id": "45f8f1d9",
   "metadata": {},
   "outputs": [],
   "source": [
    "import pandas as pd\n",
    "import matplotlib.pyplot as plt\n",
    "import numpy as np\n",
    "from matplotlib.patches import Circle\n",
    "\n",
    "from utils import Punto, PuntoCuerpo, Obj, Vector\n",
    "\n",
    "# Importar datos\n",
    "ruta = 'DataDLC/videos_eval/TS - Caja 1 - A_L - Position.h5'\n",
    "df = pd.read_hdf(ruta)['DLC_resnet50_brainhackMay25shuffle1_230000']\n",
    "\n",
    "# Crear puntos y objetos que vamos a usar\n",
    "cabeza = PuntoCuerpo(df, 'head')\n",
    "nariz = PuntoCuerpo(df, 'nose')\n",
    "obj1 = Obj(df, 'obj_1')\n",
    "obj2 = Obj(df, 'obj_2')\n",
    "\n",
    "# Cantidad de cuadros\n",
    "frames = len(cabeza.posiciones)\n",
    "\n",
    "# Radios de los objetos\n",
    "radio1 = np.array([5])\n",
    "radio2 = 5\n",
    "\n",
    "R1 = np.repeat(radio1, frames, axis = 0)"
   ]
  },
  {
   "cell_type": "code",
   "execution_count": 2,
   "id": "e3f258fe",
   "metadata": {},
   "outputs": [],
   "source": [
    "# Filtrar puntos cercanos al objeto 1\n",
    "distanciaMaxima = 20 # cm\n",
    "cercanos1 = nariz.posiciones[Punto.dist(nariz, obj1) < distanciaMaxima]\n",
    "\n",
    "# Filtrar puntos cercanos al objeto 2\n",
    "cercanos2 = nariz.posiciones[Punto.dist(nariz, obj2) < distanciaMaxima]"
   ]
  },
  {
   "cell_type": "markdown",
   "id": "9d613744",
   "metadata": {},
   "source": [
    "El criterio completo debería ser:\n",
    "\n",
    "1. Nariz cercana al objeto.\n",
    "\n",
    "2. Llamando $\\theta$ al ángulo entre el vector cabeza-nariz y el vector cabeza-objeto, $d$ a la distancia entre la cabeza y el objeto y $R$ al radio del objeto (asumiendo que se trata de un círculo), el coseno del ángulo debería estar entre\n",
    "$$\\cos \\theta_{mín} = \\frac{d}{\\sqrt{d² + R²}}$$\n",
    "y $1$."
   ]
  },
  {
   "cell_type": "code",
   "execution_count": 31,
   "id": "96c91eb0",
   "metadata": {},
   "outputs": [
    {
     "name": "stdout",
     "output_type": "stream",
     "text": [
      "(4048,)\n",
      "(4048,)\n"
     ]
    }
   ],
   "source": [
    "# Vector cabeza-objeto, normalizado\n",
    "v0 = Vector(cabeza, obj1)\n",
    "\n",
    "# Vector cabeza-nariz, normalizado\n",
    "v1 = Vector(cabeza, nariz)\n",
    "\n",
    "# Calcular el coseno del ángulo entre los vectores\n",
    "cos = Vector.cosine(v0, v1)\n",
    "\n",
    "# Filtrar puntos con cosenos dentro del rango\n",
    "d = v0.norm\n",
    "\n",
    "cosMin = d / np.sqrt(d**2 + R1**2)\n",
    "mirando = nariz.posiciones[(cosMin <= cos) & (cos <= 1)]\n"
   ]
  },
  {
   "cell_type": "markdown",
   "id": "335aa7e5",
   "metadata": {},
   "source": [
    "### Graficar objetos y puntos cercanos\n",
    "\n",
    "Falta adaptarlo para usar las clases.\n",
    "\n",
    "\n",
    "```\n",
    "fig, ax = plt.subplots()\n",
    "\n",
    "ax.plot(xn, yn, \".\", label = \"Todos los puntos\")\n",
    "\n",
    "\n",
    "ax.plot(cercanos1[:, 0], cercanos1[:, 1], \".\", label = \"Cercanos a obj1\", color = \"orange\")\n",
    "ax.plot(cercanos2[:, 0], cercanos2[:, 1], \".\", label = \"Cercanos a obj2\", color = \"purple\")\n",
    "\n",
    "ax.plot([x1], [y1], \"o\", lw = 20, label = \"Objeto 1\", color = \"red\")\n",
    "ax.plot([x2], [y2], \"o\", lw = 20, label = \"Objeto 2\", color = \"blue\")\n",
    "\n",
    "ax.add_artist(Circle((x1, y1), distanciaMaxima, color = \"grey\", alpha = 0.3))\n",
    "ax.add_artist(Circle((x2, y2), distanciaMaxima, color = \"grey\", alpha = 0.3))\n",
    "\n",
    "ax.axis('equal')\n",
    "\n",
    "ax.legend(bbox_to_anchor = (0, 0.2, 1, 1), ncol=3, fancybox=True, shadow=True)\n",
    "```"
   ]
  }
 ],
 "metadata": {
  "kernelspec": {
   "display_name": "Python 3 (ipykernel)",
   "language": "python",
   "name": "python3"
  },
  "language_info": {
   "codemirror_mode": {
    "name": "ipython",
    "version": 3
   },
   "file_extension": ".py",
   "mimetype": "text/x-python",
   "name": "python",
   "nbconvert_exporter": "python",
   "pygments_lexer": "ipython3",
   "version": "3.10.11"
  }
 },
 "nbformat": 4,
 "nbformat_minor": 5
}
